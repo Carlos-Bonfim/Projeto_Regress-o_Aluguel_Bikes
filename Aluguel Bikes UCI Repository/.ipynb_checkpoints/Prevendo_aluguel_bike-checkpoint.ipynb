{
 "cells": [
  {
   "cell_type": "code",
   "execution_count": null,
   "metadata": {
    "colab": {},
    "colab_type": "code",
    "id": "gPy9tmnfo6fO"
   },
   "outputs": [],
   "source": [
    "# importando as bibliotecas\n",
    "import pandas as pd\n",
    "import numpy as np\n",
    "import matplotlib.pyplot as plt\n",
    "import seaborn as sns\n",
    "\n",
    "from sklearn.model_selection import train_test_split\n",
    "from sklearn.model_selection import cross_val_score\n",
    "from sklearn.model_selection import KFold\n",
    "from sklearn.linear_model import LinearRegression\n",
    "from sklearn.metrics import mean_squared_error\n",
    "from sklearn.tree import DecisionTreeRegressor\n",
    "from sklearn.ensemble import RandomForestRegressor\n",
    "from sklearn.model_selection import GridSearchCV\n",
    "\n",
    "from warnings import filterwarnings\n",
    "filterwarnings('ignore')\n",
    "%matplotlib inline"
   ]
  },
  {
   "cell_type": "code",
   "execution_count": null,
   "metadata": {
    "colab": {},
    "colab_type": "code",
    "id": "S0_JtEwerL1G"
   },
   "outputs": [],
   "source": [
    "# importando o conjunto de dados\n",
    "df = pd.read_csv('dataset_bike/hour.csv')"
   ]
  },
  {
   "cell_type": "code",
   "execution_count": null,
   "metadata": {
    "colab": {
     "base_uri": "https://localhost:8080/",
     "height": 204
    },
    "colab_type": "code",
    "id": "LKai-s9ErZnO",
    "outputId": "1a0859e0-6cce-4df6-8f67-d566c2f2dc05"
   },
   "outputs": [],
   "source": [
    "# verificando as primeiras linhas\n",
    "df.head()"
   ]
  },
  {
   "cell_type": "code",
   "execution_count": null,
   "metadata": {
    "colab": {
     "base_uri": "https://localhost:8080/",
     "height": 391
    },
    "colab_type": "code",
    "id": "JOwPk0AErauB",
    "outputId": "529d106d-3aab-4752-e991-460f0c3b2b0b"
   },
   "outputs": [],
   "source": [
    "# verificando as informações das features\n",
    "df.info()"
   ]
  },
  {
   "cell_type": "code",
   "execution_count": null,
   "metadata": {
    "colab": {
     "base_uri": "https://localhost:8080/",
     "height": 317
    },
    "colab_type": "code",
    "id": "OZFCZTzUr4fE",
    "outputId": "59280d27-4ac2-48ca-943d-105315f81fb9"
   },
   "outputs": [],
   "source": [
    "# analisando as informações estatísticas\n",
    "df.describe()"
   ]
  },
  {
   "cell_type": "code",
   "execution_count": null,
   "metadata": {
    "colab": {
     "base_uri": "https://localhost:8080/",
     "height": 514
    },
    "colab_type": "code",
    "id": "oW5ETOzOsgNQ",
    "outputId": "95b26896-607f-4fb5-c9df-114f8fa34414"
   },
   "outputs": [],
   "source": [
    "# distribuição da nossa variável target\n",
    "plt.figure(figsize=(12,8))\n",
    "sns.set_style('darkgrid')\n",
    "sns.distplot(df.cnt)"
   ]
  },
  {
   "cell_type": "code",
   "execution_count": null,
   "metadata": {
    "colab": {
     "base_uri": "https://localhost:8080/",
     "height": 153
    },
    "colab_type": "code",
    "id": "YBYgtmWhs3kD",
    "outputId": "74fc06bc-7e27-4e82-87b6-965b416291d2"
   },
   "outputs": [],
   "source": [
    "# verificando a correlação\n",
    "\n",
    "vmin_corr = -0.3\n",
    "vmax_corr = 0.3\n",
    "\n",
    "correlation = df.corr()\n",
    "correlation[(correlation['cnt'] <= vmin_corr)|(correlation['cnt'] >= vmax_corr)]['cnt']"
   ]
  },
  {
   "cell_type": "markdown",
   "metadata": {
    "colab_type": "text",
    "id": "3u_h_UMZvE4S"
   },
   "source": [
    "Após definir um intervalo para aparecer somente as correlações mais fortes, podemos notar que as features com correlações mais fortes (casual e registered) diz a mesma coisa que a variável target, portanto se eu mantê-las estarei tendenciando o meu modelo."
   ]
  },
  {
   "cell_type": "code",
   "execution_count": null,
   "metadata": {
    "colab": {
     "base_uri": "https://localhost:8080/",
     "height": 204
    },
    "colab_type": "code",
    "id": "NaD-B-F5vjuX",
    "outputId": "09c7cf12-249c-4d9a-8535-456505e1514b"
   },
   "outputs": [],
   "source": [
    "# excluindo as variáveis que não fazem sentido para o meu modelo\n",
    "# rodar com todas as variáveis possíveis\n",
    "\n",
    "col_drop = ['dteday', 'casual', 'registered', 'cnt']\n",
    "df_modified = df.drop(col_drop, axis=1)\n",
    "df_modified.head()"
   ]
  },
  {
   "cell_type": "code",
   "execution_count": null,
   "metadata": {
    "colab": {},
    "colab_type": "code",
    "id": "Agd5nVytx3jw"
   },
   "outputs": [],
   "source": [
    "# constantes\n",
    "SEED = 42\n",
    "TEST_SIZE = 0.3"
   ]
  },
  {
   "cell_type": "code",
   "execution_count": null,
   "metadata": {
    "colab": {},
    "colab_type": "code",
    "id": "WOoA9E1PtS95"
   },
   "outputs": [],
   "source": [
    "# Separando em dados de treino e teste\n",
    "X = df_modified\n",
    "y = df.cnt\n",
    "\n",
    "X_train, X_test, y_train, y_test = train_test_split(X, y, test_size = TEST_SIZE, random_state=SEED)"
   ]
  },
  {
   "cell_type": "code",
   "execution_count": null,
   "metadata": {
    "colab": {},
    "colab_type": "code",
    "id": "NqEEO1h_3Icm"
   },
   "outputs": [],
   "source": [
    "# instanciando os estimadores\n",
    "lr = LinearRegression()\n",
    "dt = DecisionTreeRegressor()"
   ]
  },
  {
   "cell_type": "code",
   "execution_count": null,
   "metadata": {
    "colab": {
     "base_uri": "https://localhost:8080/",
     "height": 85
    },
    "colab_type": "code",
    "id": "AQbbBhs4yNz0",
    "outputId": "9e4c9fad-ecf0-402b-f5f9-5eedc6df147d"
   },
   "outputs": [],
   "source": [
    "# treinando o modelo\n",
    "lr_model = lr.fit(X_train, y_train)\n",
    "\n",
    "# realizando predição\n",
    "y_pred = lr_model.predict(X_test)\n",
    "\n",
    "# calculando o erro médio quadrático\n",
    "print(f'O erro médio quadrado do Linear Regression: {mean_squared_error(y_test, y_pred)}')\n",
    "print(f'\\nO Score, ou seja o quanto que a variação do modelo explica a variável resposta: {lr_model.score(X_test, y_test)*100:.2f}%')\n",
    "print('**Quanto maior o percentual do Score, mais ajustado à linha de Regressão é o modelo**')"
   ]
  },
  {
   "cell_type": "code",
   "execution_count": null,
   "metadata": {
    "colab": {
     "base_uri": "https://localhost:8080/",
     "height": 85
    },
    "colab_type": "code",
    "id": "FRbb2-VNzSq_",
    "outputId": "b0f10739-2bab-4958-aa14-2fece9a98f6c"
   },
   "outputs": [],
   "source": [
    "# afim de verificar também como foi a performance nos dados de treino\n",
    "\n",
    "# realizando predição\n",
    "y_pred_train = lr_model.predict(X_train)\n",
    "\n",
    "# calculando o erro médio quadrático\n",
    "print(f'O erro médio quadrado do Linear Regression: {mean_squared_error(y_train, y_pred_train)}')\n",
    "print(f'\\nO Score, ou seja o quanto que a variação do modelo explica a variável resposta: {lr_model.score(X_train, y_train)*100:.2f}%')\n",
    "print('**Quanto maior o percentual do Score, mais ajustado à linha de Regressão é o modelo**')"
   ]
  },
  {
   "cell_type": "code",
   "execution_count": null,
   "metadata": {
    "colab": {},
    "colab_type": "code",
    "id": "7yZ8MBpZ2ddS"
   },
   "outputs": [],
   "source": []
  },
  {
   "cell_type": "code",
   "execution_count": null,
   "metadata": {
    "colab": {
     "base_uri": "https://localhost:8080/",
     "height": 374
    },
    "colab_type": "code",
    "id": "yMOO3P8f28o6",
    "outputId": "8dcd9deb-0bdf-4b6c-b1fd-e380d8b46f13"
   },
   "outputs": [],
   "source": [
    "# instanciando os modelos\n",
    "lr = LinearRegression()\n",
    "dt = DecisionTreeRegressor()\n",
    "rf = RandomForestRegressor()\n",
    "\n",
    "# criando uma lista dos instanciadores\n",
    "list_model = [('Linear_Regression', lr),\n",
    "              ('Decision_Tree', dt),\n",
    "              ('Random_Forest', rf)]\n",
    "\n",
    "# treinando e testando os modelos\n",
    "print('AVALIANDO OS MODELOS COM TRAIN TEST SPLIT:')\n",
    "print('=-=-=-=-=-=-=-=-=-=-=-=-=-=-=-=-=-=-=-=-=-=-=-=-=-=-=-=-=-=-=-=-=-=-=-=-=-=-=-=-=-=-=-=-=\\n')\n",
    "for name, model in list_model:\n",
    "  trained = model.fit(X_train, y_train)\n",
    "  y_pred = trained.predict(X_test)\n",
    "  print(f'Resultado do modelo {name}')\n",
    "  print('----------------------------------------------------------------------------------------')\n",
    "  print(f'O erro médio quadrado do {name}: {mean_squared_error(y_test, y_pred)}')\n",
    "  print(f'O Score, ou seja o quanto que a variação do modelo explica a variável resposta: {trained.score(X_test, y_test)*100:.2f}%')\n",
    "  print('----------------------------------------------------------------------------------------\\n')"
   ]
  },
  {
   "cell_type": "code",
   "execution_count": null,
   "metadata": {
    "colab": {},
    "colab_type": "code",
    "id": "kyVRhygl9RhH"
   },
   "outputs": [],
   "source": [
    "# ajustando os hiperparâmetros do Random Forest\n",
    "# especificando os parâmetros\n",
    "\n",
    "parameters = {'min_samples_leaf':[1,10],\n",
    "              'min_samples_split':[2,10],\n",
    "              'n_estimators':[100,500,1000]}"
   ]
  },
  {
   "cell_type": "code",
   "execution_count": null,
   "metadata": {
    "colab": {},
    "colab_type": "code",
    "id": "rLNC4iB3HiGJ"
   },
   "outputs": [],
   "source": [
    "# instanciando os parametros de tunning\n",
    "rf = RandomForestRegressor()\n",
    "grid = GridSearchCV(rf, parameters)"
   ]
  },
  {
   "cell_type": "code",
   "execution_count": null,
   "metadata": {
    "colab": {
     "base_uri": "https://localhost:8080/",
     "height": 357
    },
    "colab_type": "code",
    "id": "UxoeT2X7HyvV",
    "outputId": "948d7ec2-7673-43b6-e26b-a4ae6fcd04b9"
   },
   "outputs": [],
   "source": [
    "# treinando com Grid\n",
    "grid.fit(X_train, y_train)"
   ]
  },
  {
   "cell_type": "code",
   "execution_count": null,
   "metadata": {
    "colab": {
     "base_uri": "https://localhost:8080/",
     "height": 34
    },
    "colab_type": "code",
    "id": "Zk2HpPiDICxV",
    "outputId": "37f23200-baee-4d90-fab8-59486be20c09"
   },
   "outputs": [],
   "source": [
    "grid.best_params_"
   ]
  },
  {
   "cell_type": "code",
   "execution_count": null,
   "metadata": {
    "colab": {},
    "colab_type": "code",
    "id": "_bXwiWAmML45"
   },
   "outputs": [],
   "source": [
    "rf_best = grid.best_estimator_"
   ]
  },
  {
   "cell_type": "code",
   "execution_count": null,
   "metadata": {
    "colab": {},
    "colab_type": "code",
    "id": "zo5P1GA_MUEw"
   },
   "outputs": [],
   "source": [
    "# gerando o resultado final\n",
    "final_result = rf_best.predict(X_test)"
   ]
  },
  {
   "cell_type": "code",
   "execution_count": null,
   "metadata": {
    "colab": {
     "base_uri": "https://localhost:8080/",
     "height": 51
    },
    "colab_type": "code",
    "id": "XKRrJ16MM_6Q",
    "outputId": "20822dee-3a5e-434c-9f50-f13eb1e04d44"
   },
   "outputs": [],
   "source": [
    "# calculando o resultado\n",
    "print(f'O erro médio quadrado do Grid: {mean_squared_error(y_test, final_result)}')\n",
    "print(f'O Score, ou seja o quanto que a variação do modelo explica a variável resposta: {rf_best.score(X_test, y_test)*100:.2f}%')"
   ]
  },
  {
   "cell_type": "code",
   "execution_count": null,
   "metadata": {
    "colab": {},
    "colab_type": "code",
    "id": "MdSBs5Y8xrXk"
   },
   "outputs": [],
   "source": []
  }
 ],
 "metadata": {
  "accelerator": "GPU",
  "colab": {
   "collapsed_sections": [],
   "name": "Prevendo_aluguel_bike.ipynb",
   "provenance": []
  },
  "kernelspec": {
   "display_name": "Python 3",
   "language": "python",
   "name": "python3"
  },
  "language_info": {
   "codemirror_mode": {
    "name": "ipython",
    "version": 3
   },
   "file_extension": ".py",
   "mimetype": "text/x-python",
   "name": "python",
   "nbconvert_exporter": "python",
   "pygments_lexer": "ipython3",
   "version": "3.7.4"
  }
 },
 "nbformat": 4,
 "nbformat_minor": 1
}
